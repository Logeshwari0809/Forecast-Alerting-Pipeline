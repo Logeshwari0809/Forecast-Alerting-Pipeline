{
 "cells": [
  {
   "cell_type": "code",
   "execution_count": null,
   "id": "7a110719",
   "metadata": {},
   "outputs": [
    {
     "ename": "NameError",
     "evalue": "name 'engineer_features' is not defined",
     "output_type": "error",
     "traceback": [
      "\u001b[31m---------------------------------------------------------------------------\u001b[39m",
      "\u001b[31mNameError\u001b[39m                                 Traceback (most recent call last)",
      "\u001b[36mCell\u001b[39m\u001b[36m \u001b[39m\u001b[32mIn[3]\u001b[39m\u001b[32m, line 14\u001b[39m\n\u001b[32m      8\u001b[39m \u001b[38;5;66;03m# ✅ Use correct path from notebooks/\u001b[39;00m\n\u001b[32m      9\u001b[39m df = load_data(\n\u001b[32m     10\u001b[39m     ops_path=\u001b[33m'\u001b[39m\u001b[33m../data/operations_daily_365d.csv\u001b[39m\u001b[33m'\u001b[39m,\n\u001b[32m     11\u001b[39m     meta_path=\u001b[33m'\u001b[39m\u001b[33m../data/site_meta.csv\u001b[39m\u001b[33m'\u001b[39m\n\u001b[32m     12\u001b[39m )\n\u001b[32m---> \u001b[39m\u001b[32m14\u001b[39m df = \u001b[43mengineer_features\u001b[49m(df)\n\u001b[32m     15\u001b[39m df.head()\n",
      "\u001b[31mNameError\u001b[39m: name 'engineer_features' is not defined"
     ]
    }
   ],
   "source": [
    "import sys\n",
    "import os\n",
    "sys.path.append(os.path.abspath(os.path.join(os.getcwd(), '..')))\n",
    "\n",
    "from src.loader import load_data\n",
    "from src.features import engineer_features\n",
    "from src.models import forecast_prophet\n",
    "\n",
    "# ✅ Use correct path from notebooks/\n",
    "df = load_data(\n",
    "    ops_path='../data/operations_daily_365d.csv',\n",
    "    meta_path='../data/site_meta.csv'\n",
    ")\n",
    "\n",
    "df = engineer_features(df)\n",
    "df.head()\n"
   ]
  },
  {
   "cell_type": "code",
   "execution_count": 2,
   "id": "77bd9ce7",
   "metadata": {},
   "outputs": [
    {
     "ename": "NameError",
     "evalue": "name 'engineer_features' is not defined",
     "output_type": "error",
     "traceback": [
      "\u001b[31m---------------------------------------------------------------------------\u001b[39m",
      "\u001b[31mNameError\u001b[39m                                 Traceback (most recent call last)",
      "\u001b[36mCell\u001b[39m\u001b[36m \u001b[39m\u001b[32mIn[2]\u001b[39m\u001b[32m, line 1\u001b[39m\n\u001b[32m----> \u001b[39m\u001b[32m1\u001b[39m df = \u001b[43mengineer_features\u001b[49m(df)\n\u001b[32m      3\u001b[39m \u001b[38;5;66;03m# Set parameters\u001b[39;00m\n\u001b[32m      4\u001b[39m site_id = \u001b[33m'\u001b[39m\u001b[33mS1\u001b[39m\u001b[33m'\u001b[39m\n",
      "\u001b[31mNameError\u001b[39m: name 'engineer_features' is not defined"
     ]
    }
   ],
   "source": [
    "df = engineer_features(df)\n",
    "\n",
    "# Set parameters\n",
    "site_id = 'S1'\n",
    "target = 'units_produced'\n",
    "\n",
    "# Forecast\n",
    "forecast_df, model = forecast_prophet(df, site_id, target, periods=14)\n",
    "forecast_df.head()"
   ]
  },
  {
   "cell_type": "code",
   "execution_count": null,
   "id": "f795750a",
   "metadata": {},
   "outputs": [],
   "source": []
  }
 ],
 "metadata": {
  "kernelspec": {
   "display_name": ".venv (3.13.1)",
   "language": "python",
   "name": "python3"
  },
  "language_info": {
   "codemirror_mode": {
    "name": "ipython",
    "version": 3
   },
   "file_extension": ".py",
   "mimetype": "text/x-python",
   "name": "python",
   "nbconvert_exporter": "python",
   "pygments_lexer": "ipython3",
   "version": "3.13.1"
  }
 },
 "nbformat": 4,
 "nbformat_minor": 5
}
