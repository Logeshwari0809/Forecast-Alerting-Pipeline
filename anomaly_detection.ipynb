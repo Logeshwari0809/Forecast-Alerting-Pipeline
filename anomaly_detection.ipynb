{
 "cells": [
  {
   "cell_type": "code",
   "execution_count": 1,
   "id": "a20802b8",
   "metadata": {},
   "outputs": [],
   "source": [
    "# 📌 Setup: Add project root to sys.path\n",
    "import sys\n",
    "import os\n",
    "sys.path.append(os.path.abspath(os.path.join(os.getcwd(), '..')))\n"
   ]
  },
  {
   "cell_type": "code",
   "execution_count": 2,
   "id": "926d89cb",
   "metadata": {},
   "outputs": [],
   "source": [
    "# 📦 Imports\n",
    "from src.loader import load_data\n",
    "from src.features import engineer_features\n",
    "from src.anomaly import detect_anomalies\n",
    "\n",
    "import pandas as pd\n"
   ]
  },
  {
   "cell_type": "code",
   "execution_count": 3,
   "id": "c95cd34d",
   "metadata": {},
   "outputs": [],
   "source": [
    "# 📥 Load and prepare data\n",
    "df = load_data(\n",
    "    ops_path='../data/operations_daily_365d.csv',\n",
    "    meta_path='../data/site_meta.csv'\n",
    ")\n",
    "df = engineer_features(df)\n"
   ]
  },
  {
   "cell_type": "code",
   "execution_count": 4,
   "id": "417f8ee4",
   "metadata": {},
   "outputs": [
    {
     "data": {
      "text/html": [
       "<div>\n",
       "<style scoped>\n",
       "    .dataframe tbody tr th:only-of-type {\n",
       "        vertical-align: middle;\n",
       "    }\n",
       "\n",
       "    .dataframe tbody tr th {\n",
       "        vertical-align: top;\n",
       "    }\n",
       "\n",
       "    .dataframe thead th {\n",
       "        text-align: right;\n",
       "    }\n",
       "</style>\n",
       "<table border=\"1\" class=\"dataframe\">\n",
       "  <thead>\n",
       "    <tr style=\"text-align: right;\">\n",
       "      <th></th>\n",
       "      <th>date</th>\n",
       "      <th>site_id</th>\n",
       "      <th>type</th>\n",
       "      <th>value</th>\n",
       "    </tr>\n",
       "  </thead>\n",
       "  <tbody>\n",
       "    <tr>\n",
       "      <th>0</th>\n",
       "      <td>2025-01-15</td>\n",
       "      <td>S1</td>\n",
       "      <td>High Downtime</td>\n",
       "      <td>69</td>\n",
       "    </tr>\n",
       "    <tr>\n",
       "      <th>1</th>\n",
       "      <td>2025-01-17</td>\n",
       "      <td>S1</td>\n",
       "      <td>High Downtime</td>\n",
       "      <td>94</td>\n",
       "    </tr>\n",
       "    <tr>\n",
       "      <th>2</th>\n",
       "      <td>2025-01-18</td>\n",
       "      <td>S1</td>\n",
       "      <td>Zero Production Without Downtime</td>\n",
       "      <td>0</td>\n",
       "    </tr>\n",
       "    <tr>\n",
       "      <th>3</th>\n",
       "      <td>2025-01-19</td>\n",
       "      <td>S1</td>\n",
       "      <td>High Downtime</td>\n",
       "      <td>67</td>\n",
       "    </tr>\n",
       "    <tr>\n",
       "      <th>4</th>\n",
       "      <td>2025-01-23</td>\n",
       "      <td>S1</td>\n",
       "      <td>Zero Production Without Downtime</td>\n",
       "      <td>0</td>\n",
       "    </tr>\n",
       "  </tbody>\n",
       "</table>\n",
       "</div>"
      ],
      "text/plain": [
       "        date site_id                              type  value\n",
       "0 2025-01-15      S1                     High Downtime     69\n",
       "1 2025-01-17      S1                     High Downtime     94\n",
       "2 2025-01-18      S1  Zero Production Without Downtime      0\n",
       "3 2025-01-19      S1                     High Downtime     67\n",
       "4 2025-01-23      S1  Zero Production Without Downtime      0"
      ]
     },
     "execution_count": 4,
     "metadata": {},
     "output_type": "execute_result"
    }
   ],
   "source": [
    "# 🚨 Detect anomalies (downtime)\n",
    "alerts_df = detect_anomalies(df)\n",
    "alerts_df.head()\n"
   ]
  }
 ],
 "metadata": {
  "kernelspec": {
   "display_name": ".venv (3.13.1)",
   "language": "python",
   "name": "python3"
  },
  "language_info": {
   "codemirror_mode": {
    "name": "ipython",
    "version": 3
   },
   "file_extension": ".py",
   "mimetype": "text/x-python",
   "name": "python",
   "nbconvert_exporter": "python",
   "pygments_lexer": "ipython3",
   "version": "3.13.1"
  }
 },
 "nbformat": 4,
 "nbformat_minor": 5
}
